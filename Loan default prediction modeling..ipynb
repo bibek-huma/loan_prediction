{
 "cells": [
  {
   "cell_type": "markdown",
   "metadata": {},
   "source": [
    "# In-sample fitting and out-of-sample predictive performance of Random Forests, Neural Networks and Support Vector Machines by using two different cross-validation techniques. "
   ]
  },
  {
   "cell_type": "markdown",
   "metadata": {},
   "source": [
    "Extracts data and saves it in loan"
   ]
  },
  {
   "cell_type": "code",
   "execution_count": 117,
   "metadata": {},
   "outputs": [],
   "source": [
    "loan=read.csv(\"c:/Users/bibek/Downloads/loan.csv\")"
   ]
  },
  {
   "cell_type": "markdown",
   "metadata": {},
   "source": [
    "Displays the number of fields and records in the dataset"
   ]
  },
  {
   "cell_type": "code",
   "execution_count": 118,
   "metadata": {},
   "outputs": [
    {
     "data": {
      "text/html": [
       "<ol class=list-inline>\n",
       "\t<li>850</li>\n",
       "\t<li>6</li>\n",
       "</ol>\n"
      ],
      "text/latex": [
       "\\begin{enumerate*}\n",
       "\\item 850\n",
       "\\item 6\n",
       "\\end{enumerate*}\n"
      ],
      "text/markdown": [
       "1. 850\n",
       "2. 6\n",
       "\n",
       "\n"
      ],
      "text/plain": [
       "[1] 850   6"
      ]
     },
     "metadata": {},
     "output_type": "display_data"
    }
   ],
   "source": [
    "dim(loan)"
   ]
  },
  {
   "cell_type": "code",
   "execution_count": 119,
   "metadata": {},
   "outputs": [
    {
     "data": {
      "text/html": [
       "<ol class=list-inline>\n",
       "\t<li>'Status'</li>\n",
       "\t<li>'CreditGrade'</li>\n",
       "\t<li>'Amount'</li>\n",
       "\t<li>'Age'</li>\n",
       "\t<li>'BorrowerRate'</li>\n",
       "\t<li>'DebtToIncome'</li>\n",
       "</ol>\n"
      ],
      "text/latex": [
       "\\begin{enumerate*}\n",
       "\\item 'Status'\n",
       "\\item 'CreditGrade'\n",
       "\\item 'Amount'\n",
       "\\item 'Age'\n",
       "\\item 'BorrowerRate'\n",
       "\\item 'DebtToIncome'\n",
       "\\end{enumerate*}\n"
      ],
      "text/markdown": [
       "1. 'Status'\n",
       "2. 'CreditGrade'\n",
       "3. 'Amount'\n",
       "4. 'Age'\n",
       "5. 'BorrowerRate'\n",
       "6. 'DebtToIncome'\n",
       "\n",
       "\n"
      ],
      "text/plain": [
       "[1] \"Status\"       \"CreditGrade\"  \"Amount\"       \"Age\"          \"BorrowerRate\"\n",
       "[6] \"DebtToIncome\""
      ]
     },
     "metadata": {},
     "output_type": "display_data"
    }
   ],
   "source": [
    "names(loan)\n"
   ]
  },
  {
   "cell_type": "markdown",
   "metadata": {},
   "source": [
    "Encodes the vector as a factor"
   ]
  },
  {
   "cell_type": "code",
   "execution_count": 120,
   "metadata": {},
   "outputs": [
    {
     "data": {
      "text/html": [
       "TRUE"
      ],
      "text/latex": [
       "TRUE"
      ],
      "text/markdown": [
       "TRUE"
      ],
      "text/plain": [
       "[1] TRUE"
      ]
     },
     "metadata": {},
     "output_type": "display_data"
    }
   ],
   "source": [
    "is.factor(loan$CreditGrade)"
   ]
  },
  {
   "cell_type": "markdown",
   "metadata": {},
   "source": [
    "Randomizes the data set and sets it to 1"
   ]
  },
  {
   "cell_type": "code",
   "execution_count": 121,
   "metadata": {},
   "outputs": [],
   "source": [
    "set.seed(1)"
   ]
  },
  {
   "cell_type": "markdown",
   "metadata": {},
   "source": [
    "Training set is defined with 750 datasets"
   ]
  },
  {
   "cell_type": "code",
   "execution_count": 122,
   "metadata": {},
   "outputs": [],
   "source": [
    "train=sample(1:850,750)"
   ]
  },
  {
   "cell_type": "markdown",
   "metadata": {},
   "source": [
    "Installs and loads the random forest library"
   ]
  },
  {
   "cell_type": "code",
   "execution_count": 123,
   "metadata": {},
   "outputs": [],
   "source": [
    "library(randomForest)"
   ]
  },
  {
   "cell_type": "code",
   "execution_count": 124,
   "metadata": {},
   "outputs": [],
   "source": [
    "rf=randomForest(factor(Status) ~ ., data=loan)"
   ]
  },
  {
   "cell_type": "markdown",
   "metadata": {},
   "source": [
    "Performance of random forest in 850 dataset"
   ]
  },
  {
   "cell_type": "code",
   "execution_count": 125,
   "metadata": {},
   "outputs": [
    {
     "data": {
      "text/plain": [
       "\n",
       "Call:\n",
       " randomForest(formula = factor(Status) ~ ., data = loan) \n",
       "               Type of random forest: classification\n",
       "                     Number of trees: 500\n",
       "No. of variables tried at each split: 2\n",
       "\n",
       "        OOB estimate of  error rate: 10.24%\n",
       "Confusion matrix:\n",
       "    0   1 class.error\n",
       "0 392  33  0.07764706\n",
       "1  54 371  0.12705882"
      ]
     },
     "metadata": {},
     "output_type": "display_data"
    }
   ],
   "source": [
    "rf"
   ]
  },
  {
   "cell_type": "code",
   "execution_count": 126,
   "metadata": {},
   "outputs": [],
   "source": [
    "rf=randomForest(factor(Status) ~ ., data=loan[train,])\n"
   ]
  },
  {
   "cell_type": "markdown",
   "metadata": {},
   "source": [
    "Performance of random forest in 750 train dataset"
   ]
  },
  {
   "cell_type": "code",
   "execution_count": 127,
   "metadata": {},
   "outputs": [
    {
     "data": {
      "text/plain": [
       "\n",
       "Call:\n",
       " randomForest(formula = factor(Status) ~ ., data = loan[train,      ]) \n",
       "               Type of random forest: classification\n",
       "                     Number of trees: 500\n",
       "No. of variables tried at each split: 2\n",
       "\n",
       "        OOB estimate of  error rate: 10.67%\n",
       "Confusion matrix:\n",
       "    0   1 class.error\n",
       "0 343  35  0.09259259\n",
       "1  45 327  0.12096774"
      ]
     },
     "metadata": {},
     "output_type": "display_data"
    }
   ],
   "source": [
    " rf"
   ]
  },
  {
   "cell_type": "code",
   "execution_count": 128,
   "metadata": {},
   "outputs": [],
   "source": [
    "pre.rf=predict(rf,loan[-train,])\n"
   ]
  },
  {
   "cell_type": "markdown",
   "metadata": {},
   "source": [
    "Performance of random forest in 100 test dataset"
   ]
  },
  {
   "cell_type": "code",
   "execution_count": 129,
   "metadata": {},
   "outputs": [
    {
     "data": {
      "text/plain": [
       "   pre.rf\n",
       "     0  1\n",
       "  0 44  3\n",
       "  1  6 47"
      ]
     },
     "metadata": {},
     "output_type": "display_data"
    }
   ],
   "source": [
    "table(loan$Status[-train],pre.rf)"
   ]
  },
  {
   "cell_type": "markdown",
   "metadata": {},
   "source": [
    "# In sample Prediction "
   ]
  },
  {
   "cell_type": "markdown",
   "metadata": {},
   "source": [
    "Fits the dataset into Neural Network with six neurons and maxit iteration of 1000."
   ]
  },
  {
   "cell_type": "code",
   "execution_count": 130,
   "metadata": {},
   "outputs": [],
   "source": [
    "library(nnet)\n"
   ]
  },
  {
   "cell_type": "code",
   "execution_count": 131,
   "metadata": {},
   "outputs": [],
   "source": [
    "X=model.matrix(Status~.,data=loan)[,-1]"
   ]
  },
  {
   "cell_type": "code",
   "execution_count": 132,
   "metadata": {},
   "outputs": [],
   "source": [
    "XX=cbind(Status=loan$Status,scale(X))"
   ]
  },
  {
   "cell_type": "code",
   "execution_count": 133,
   "metadata": {},
   "outputs": [
    {
     "name": "stdout",
     "output_type": "stream",
     "text": [
      "# weights:  49\n",
      "initial  value 696.447373 \n",
      "iter  10 value 333.980200\n",
      "iter  20 value 284.559503\n",
      "iter  30 value 263.256956\n",
      "iter  40 value 242.875629\n",
      "iter  50 value 236.388429\n",
      "iter  60 value 230.816745\n",
      "iter  70 value 228.820787\n",
      "iter  80 value 227.361329\n",
      "iter  90 value 227.000942\n",
      "iter 100 value 226.523450\n",
      "iter 110 value 226.338091\n",
      "iter 120 value 226.116947\n",
      "iter 130 value 225.934701\n",
      "iter 140 value 223.768175\n",
      "iter 150 value 222.064257\n",
      "iter 160 value 220.956505\n",
      "iter 170 value 220.358005\n",
      "iter 180 value 217.031549\n",
      "iter 190 value 213.728101\n",
      "iter 200 value 212.559190\n",
      "iter 210 value 212.495464\n",
      "iter 220 value 212.387788\n",
      "iter 230 value 212.290795\n",
      "iter 240 value 212.209444\n",
      "iter 250 value 211.880554\n",
      "iter 260 value 211.607459\n",
      "iter 270 value 211.523748\n",
      "iter 280 value 211.433920\n",
      "iter 290 value 211.373422\n",
      "iter 300 value 211.333558\n",
      "iter 310 value 211.327979\n",
      "iter 320 value 211.290079\n",
      "iter 330 value 211.229982\n",
      "iter 340 value 211.216031\n",
      "iter 350 value 211.209457\n",
      "iter 360 value 211.181389\n",
      "iter 370 value 211.154839\n",
      "iter 380 value 211.144310\n",
      "iter 390 value 211.091144\n",
      "final  value 211.083057 \n",
      "converged\n"
     ]
    }
   ],
   "source": [
    "loannet= nnet(factor(Status)~., data=XX,  size = 6,maxit=1000)\n"
   ]
  },
  {
   "cell_type": "code",
   "execution_count": 134,
   "metadata": {},
   "outputs": [],
   "source": [
    "pred=predict(loannet,XX,type=\"class\")"
   ]
  },
  {
   "cell_type": "code",
   "execution_count": 135,
   "metadata": {},
   "outputs": [
    {
     "data": {
      "text/plain": [
       "   pred\n",
       "      0   1\n",
       "  0 395  30\n",
       "  1  50 375"
      ]
     },
     "metadata": {},
     "output_type": "display_data"
    }
   ],
   "source": [
    "table(loan$Status,pred)"
   ]
  },
  {
   "cell_type": "markdown",
   "metadata": {},
   "source": [
    "770 out of 850 dataset are correctly predicted"
   ]
  },
  {
   "cell_type": "markdown",
   "metadata": {},
   "source": [
    "# Out of sample prediction "
   ]
  },
  {
   "cell_type": "code",
   "execution_count": 136,
   "metadata": {},
   "outputs": [
    {
     "name": "stdout",
     "output_type": "stream",
     "text": [
      "# weights:  49\n",
      "initial  value 527.463768 \n",
      "iter  10 value 244.496124\n",
      "iter  20 value 208.583995\n",
      "iter  30 value 183.978937\n",
      "iter  40 value 174.542452\n",
      "iter  50 value 172.126882\n",
      "iter  60 value 170.148798\n",
      "iter  70 value 168.576759\n",
      "iter  80 value 167.240466\n",
      "iter  90 value 162.653874\n",
      "iter 100 value 160.312421\n",
      "iter 110 value 158.611813\n",
      "iter 120 value 154.377751\n",
      "iter 130 value 151.659140\n",
      "iter 140 value 151.334552\n",
      "iter 150 value 151.042370\n",
      "iter 160 value 150.960327\n",
      "iter 170 value 150.938423\n",
      "iter 180 value 150.924292\n",
      "iter 190 value 150.913064\n",
      "iter 200 value 150.902671\n",
      "iter 210 value 150.897224\n",
      "iter 220 value 150.890930\n",
      "iter 230 value 150.889510\n",
      "iter 240 value 150.888366\n",
      "iter 250 value 150.886995\n",
      "final  value 150.885925 \n",
      "converged\n"
     ]
    }
   ],
   "source": [
    "loannet2= nnet(factor(Status)~., data=XX[train,],  size = 6,maxit=1000)"
   ]
  },
  {
   "cell_type": "code",
   "execution_count": 137,
   "metadata": {},
   "outputs": [],
   "source": [
    "pred=predict(loannet2,XX[-train,],type=\"class\")"
   ]
  },
  {
   "cell_type": "code",
   "execution_count": 138,
   "metadata": {},
   "outputs": [
    {
     "data": {
      "text/plain": [
       "   pred\n",
       "     0  1\n",
       "  0 41  6\n",
       "  1 10 43"
      ]
     },
     "metadata": {},
     "output_type": "display_data"
    }
   ],
   "source": [
    "table(loan$Status[-train],pred)\n"
   ]
  },
  {
   "cell_type": "markdown",
   "metadata": {},
   "source": [
    "84 out of 100 training set are correctly classified  by ANN"
   ]
  },
  {
   "cell_type": "markdown",
   "metadata": {},
   "source": [
    "Uses 750 randomly selected test dataset to build a model in Support Vector Machine"
   ]
  },
  {
   "cell_type": "code",
   "execution_count": 139,
   "metadata": {},
   "outputs": [],
   "source": [
    "library(e1071)"
   ]
  },
  {
   "cell_type": "code",
   "execution_count": 140,
   "metadata": {},
   "outputs": [],
   "source": [
    "sv=svm(factor(Status) ~ ., data = loan[train,])"
   ]
  },
  {
   "cell_type": "markdown",
   "metadata": {},
   "source": [
    "Applies the built SVM model in training set"
   ]
  },
  {
   "cell_type": "code",
   "execution_count": 141,
   "metadata": {},
   "outputs": [],
   "source": [
    "pred = predict(sv, loan[-train,])"
   ]
  },
  {
   "cell_type": "code",
   "execution_count": 142,
   "metadata": {},
   "outputs": [
    {
     "data": {
      "text/plain": [
       "    \n",
       "pred  0  1\n",
       "   0 41 10\n",
       "   1  6 43"
      ]
     },
     "metadata": {},
     "output_type": "display_data"
    }
   ],
   "source": [
    "table(pred, loan$Status[-train])"
   ]
  },
  {
   "cell_type": "markdown",
   "metadata": {},
   "source": [
    "84 out of 100 training set are correctly classified by SVM"
   ]
  },
  {
   "cell_type": "markdown",
   "metadata": {},
   "source": [
    "Randomizes the order of rows"
   ]
  },
  {
   "cell_type": "code",
   "execution_count": 143,
   "metadata": {},
   "outputs": [],
   "source": [
    "set.seed(2)"
   ]
  },
  {
   "cell_type": "code",
   "execution_count": 144,
   "metadata": {},
   "outputs": [],
   "source": [
    "loan=loan[sample(850),]"
   ]
  },
  {
   "cell_type": "markdown",
   "metadata": {},
   "source": [
    "# 10 fold cross-validation using Random Forest"
   ]
  },
  {
   "cell_type": "code",
   "execution_count": 145,
   "metadata": {},
   "outputs": [],
   "source": [
    "apre.rf=0"
   ]
  },
  {
   "cell_type": "code",
   "execution_count": 146,
   "metadata": {},
   "outputs": [],
   "source": [
    "for(k in 1:10) {\n",
    "hout=(85*(k-1)+1):(85*k)\n",
    "loan.rf=randomForest(factor(Status) ~ ., data=loan[-hout,])\n",
    "pre=predict(loan.rf,loan[hout,])\n",
    "apre.rf=apre.rf+sum(loan$Status[hout]==pre)\n",
    "}"
   ]
  },
  {
   "cell_type": "code",
   "execution_count": 147,
   "metadata": {},
   "outputs": [
    {
     "data": {
      "text/html": [
       "761"
      ],
      "text/latex": [
       "761"
      ],
      "text/markdown": [
       "761"
      ],
      "text/plain": [
       "[1] 761"
      ]
     },
     "metadata": {},
     "output_type": "display_data"
    }
   ],
   "source": [
    "apre.rf\n"
   ]
  },
  {
   "cell_type": "markdown",
   "metadata": {},
   "source": [
    "761 out of 850 total data set are correctly classified by Random Forest"
   ]
  },
  {
   "cell_type": "markdown",
   "metadata": {},
   "source": [
    "# 10 fold cross-validation using ANN"
   ]
  },
  {
   "cell_type": "code",
   "execution_count": 148,
   "metadata": {},
   "outputs": [],
   "source": [
    "apre.nn=0\n"
   ]
  },
  {
   "cell_type": "code",
   "execution_count": 149,
   "metadata": {},
   "outputs": [],
   "source": [
    "X=model.matrix(Status~.,data=loan)[,-1]"
   ]
  },
  {
   "cell_type": "code",
   "execution_count": 150,
   "metadata": {},
   "outputs": [],
   "source": [
    "XX=cbind(Status=loan$Status,scale(X))"
   ]
  },
  {
   "cell_type": "code",
   "execution_count": 151,
   "metadata": {},
   "outputs": [
    {
     "name": "stdout",
     "output_type": "stream",
     "text": [
      "# weights:  49\n",
      "initial  value 538.302995 \n",
      "iter  10 value 252.965656\n",
      "iter  20 value 210.714023\n",
      "iter  30 value 182.924391\n",
      "iter  40 value 178.701223\n",
      "iter  50 value 175.857287\n",
      "iter  60 value 172.666147\n",
      "iter  70 value 168.897621\n",
      "iter  80 value 166.800057\n",
      "iter  90 value 166.180713\n",
      "iter 100 value 164.652946\n",
      "iter 110 value 164.410187\n",
      "iter 120 value 164.038612\n",
      "iter 130 value 163.790406\n",
      "iter 140 value 163.691436\n",
      "iter 150 value 163.581399\n",
      "iter 160 value 163.338403\n",
      "iter 170 value 162.823819\n",
      "iter 180 value 162.040774\n",
      "iter 190 value 161.078442\n",
      "iter 200 value 160.821820\n",
      "iter 210 value 160.622649\n",
      "iter 220 value 160.489425\n",
      "iter 230 value 160.010834\n",
      "iter 240 value 159.233223\n",
      "iter 250 value 158.755076\n",
      "iter 260 value 158.593109\n",
      "iter 270 value 158.416356\n",
      "iter 280 value 158.292654\n",
      "iter 290 value 158.230907\n",
      "iter 300 value 158.218287\n",
      "iter 310 value 158.213594\n",
      "iter 320 value 158.210009\n",
      "iter 330 value 158.183728\n",
      "iter 340 value 158.156177\n",
      "iter 350 value 158.154322\n",
      "iter 360 value 158.153198\n",
      "iter 370 value 158.149642\n",
      "iter 380 value 158.144310\n",
      "iter 390 value 158.139672\n",
      "iter 400 value 158.129200\n",
      "final  value 158.126197 \n",
      "converged\n",
      "# weights:  49\n",
      "initial  value 498.443801 \n",
      "iter  10 value 263.843352\n",
      "iter  20 value 203.513262\n",
      "iter  30 value 183.673366\n",
      "iter  40 value 171.304202\n",
      "iter  50 value 164.597620\n",
      "iter  60 value 157.821201\n",
      "iter  70 value 154.682473\n",
      "iter  80 value 152.810803\n",
      "iter  90 value 150.159910\n",
      "iter 100 value 149.155996\n",
      "iter 110 value 149.012018\n",
      "iter 120 value 148.690338\n",
      "iter 130 value 148.428748\n",
      "iter 140 value 148.361279\n",
      "iter 150 value 148.352555\n",
      "iter 160 value 148.348014\n",
      "iter 170 value 148.345845\n",
      "iter 180 value 148.339659\n",
      "final  value 148.338848 \n",
      "converged\n",
      "# weights:  49\n",
      "initial  value 666.405468 \n",
      "iter  10 value 257.779233\n",
      "iter  20 value 220.640908\n",
      "iter  30 value 205.781596\n",
      "iter  40 value 193.969082\n",
      "iter  50 value 186.104120\n",
      "iter  60 value 183.204586\n",
      "iter  70 value 180.493417\n",
      "iter  80 value 177.959779\n",
      "iter  90 value 176.042166\n",
      "iter 100 value 175.018004\n",
      "iter 110 value 174.685286\n",
      "iter 120 value 174.407327\n",
      "iter 130 value 173.842484\n",
      "iter 140 value 173.587026\n",
      "iter 150 value 173.531846\n",
      "iter 160 value 173.524922\n",
      "iter 170 value 173.522208\n",
      "iter 180 value 173.518647\n",
      "iter 190 value 173.515414\n",
      "iter 200 value 173.511244\n",
      "iter 210 value 173.509196\n",
      "iter 220 value 173.508281\n",
      "iter 230 value 173.503965\n",
      "iter 240 value 173.493011\n",
      "iter 250 value 173.490162\n",
      "iter 260 value 173.485500\n",
      "iter 270 value 173.482492\n",
      "iter 280 value 173.480412\n",
      "iter 290 value 173.477564\n",
      "iter 300 value 173.476670\n",
      "iter 310 value 173.475392\n",
      "iter 320 value 173.473774\n",
      "final  value 173.473625 \n",
      "converged\n",
      "# weights:  49\n",
      "initial  value 530.187933 \n",
      "iter  10 value 244.935157\n",
      "iter  20 value 225.095463\n",
      "iter  30 value 213.489953\n",
      "iter  40 value 192.453405\n",
      "iter  50 value 184.807309\n",
      "iter  60 value 180.548091\n",
      "iter  70 value 177.672182\n",
      "iter  80 value 175.994006\n",
      "iter  90 value 174.551422\n",
      "iter 100 value 173.796430\n",
      "iter 110 value 173.683161\n",
      "iter 120 value 173.483165\n",
      "iter 130 value 172.513057\n",
      "iter 140 value 171.140683\n",
      "iter 150 value 169.533990\n",
      "iter 160 value 169.270056\n",
      "iter 170 value 169.040222\n",
      "iter 180 value 168.847838\n",
      "iter 190 value 168.291550\n",
      "iter 200 value 168.126522\n",
      "iter 210 value 168.097348\n",
      "iter 220 value 168.079514\n",
      "iter 230 value 168.058420\n",
      "iter 240 value 168.036377\n",
      "iter 250 value 167.946918\n",
      "iter 260 value 167.891944\n",
      "iter 270 value 167.857628\n",
      "iter 280 value 167.826846\n",
      "iter 290 value 167.639177\n",
      "iter 300 value 167.365124\n",
      "iter 310 value 167.360630\n",
      "iter 320 value 167.357745\n",
      "iter 330 value 167.351039\n",
      "iter 340 value 167.334344\n",
      "iter 350 value 167.297900\n",
      "iter 360 value 167.289549\n",
      "iter 370 value 167.285207\n",
      "iter 380 value 167.279506\n",
      "iter 390 value 167.257398\n",
      "iter 400 value 167.248311\n",
      "iter 410 value 167.247503\n",
      "iter 420 value 167.244852\n",
      "iter 430 value 167.236135\n",
      "iter 440 value 167.230068\n",
      "iter 450 value 167.227470\n",
      "iter 460 value 167.209283\n",
      "iter 470 value 167.180360\n",
      "iter 480 value 167.161958\n",
      "iter 490 value 167.151694\n",
      "iter 500 value 167.147280\n",
      "iter 510 value 167.147163\n",
      "iter 520 value 167.145098\n",
      "iter 530 value 167.137691\n",
      "iter 540 value 167.129459\n",
      "iter 550 value 167.122214\n",
      "iter 560 value 167.113695\n",
      "iter 570 value 167.106018\n",
      "iter 580 value 167.101021\n",
      "iter 590 value 167.099248\n",
      "iter 600 value 167.095675\n",
      "final  value 167.095662 \n",
      "converged\n",
      "# weights:  49\n",
      "initial  value 664.534007 \n",
      "iter  10 value 271.133216\n",
      "iter  20 value 242.490762\n",
      "iter  30 value 224.301234\n",
      "iter  40 value 213.815108\n",
      "iter  50 value 206.049254\n",
      "iter  60 value 199.574625\n",
      "iter  70 value 192.088700\n",
      "iter  80 value 185.926004\n",
      "iter  90 value 183.160890\n",
      "iter 100 value 180.854281\n",
      "iter 110 value 180.640793\n",
      "iter 120 value 180.266089\n",
      "iter 130 value 178.914933\n",
      "iter 140 value 178.684901\n",
      "iter 150 value 178.119516\n",
      "iter 160 value 177.905022\n",
      "iter 170 value 177.777690\n",
      "iter 180 value 177.609313\n",
      "iter 190 value 177.416424\n",
      "iter 200 value 177.349511\n",
      "iter 210 value 177.285836\n",
      "iter 220 value 177.197295\n",
      "iter 230 value 177.031218\n",
      "iter 240 value 176.841902\n",
      "iter 250 value 176.559754\n",
      "iter 260 value 176.267734\n",
      "iter 270 value 175.722504\n",
      "iter 280 value 175.270314\n",
      "iter 290 value 175.215618\n",
      "iter 300 value 175.139469\n",
      "iter 310 value 174.998744\n",
      "iter 320 value 174.919877\n",
      "iter 330 value 174.914463\n",
      "iter 340 value 174.907978\n",
      "iter 350 value 174.893337\n",
      "iter 360 value 174.812445\n",
      "iter 370 value 174.690278\n",
      "iter 380 value 174.566301\n",
      "iter 390 value 174.478376\n",
      "iter 400 value 174.424297\n",
      "final  value 174.424230 \n",
      "converged\n",
      "# weights:  49\n",
      "initial  value 595.147129 \n",
      "iter  10 value 251.413317\n",
      "iter  20 value 222.575384\n",
      "iter  30 value 205.250899\n",
      "iter  40 value 180.235778\n",
      "iter  50 value 174.178772\n",
      "iter  60 value 170.352425\n",
      "iter  70 value 165.238800\n",
      "iter  80 value 157.524047\n",
      "iter  90 value 152.956687\n",
      "iter 100 value 152.224563\n",
      "iter 110 value 152.199807\n",
      "iter 120 value 152.193949\n",
      "final  value 152.193945 \n",
      "converged\n",
      "# weights:  49\n",
      "initial  value 625.284210 \n",
      "iter  10 value 313.235443\n",
      "iter  20 value 255.543265\n",
      "iter  30 value 241.473207\n",
      "iter  40 value 238.051050\n",
      "iter  50 value 234.282631\n",
      "iter  60 value 231.562198\n",
      "iter  70 value 230.288072\n",
      "iter  80 value 228.784625\n",
      "iter  90 value 220.279204\n",
      "iter 100 value 217.510889\n",
      "iter 110 value 215.478414\n",
      "iter 120 value 214.852692\n",
      "iter 130 value 214.605980\n",
      "iter 140 value 214.499733\n",
      "iter 150 value 214.289255\n",
      "iter 160 value 213.846287\n",
      "iter 170 value 213.760176\n",
      "iter 180 value 213.728073\n",
      "iter 190 value 213.718699\n",
      "iter 200 value 213.709240\n",
      "iter 210 value 213.703439\n",
      "iter 220 value 213.700640\n",
      "iter 230 value 213.694295\n",
      "iter 240 value 213.659996\n",
      "iter 250 value 213.650761\n",
      "iter 260 value 213.317307\n",
      "iter 270 value 212.991331\n",
      "iter 280 value 212.754336\n",
      "iter 290 value 212.746239\n",
      "iter 300 value 212.741491\n",
      "iter 310 value 212.727165\n",
      "iter 320 value 212.719893\n",
      "iter 330 value 212.711793\n",
      "iter 340 value 212.698531\n",
      "iter 350 value 212.692170\n",
      "final  value 212.690853 \n",
      "converged\n",
      "# weights:  49\n",
      "initial  value 629.852033 \n",
      "iter  10 value 306.631756\n",
      "iter  20 value 260.545100\n",
      "iter  30 value 240.647604\n",
      "iter  40 value 231.439295\n",
      "iter  50 value 220.880738\n",
      "iter  60 value 201.350151\n",
      "iter  70 value 193.713517\n",
      "iter  80 value 189.253386\n",
      "iter  90 value 185.854587\n",
      "iter 100 value 184.621550\n",
      "iter 110 value 184.085815\n",
      "iter 120 value 182.670832\n",
      "iter 130 value 181.890795\n",
      "iter 140 value 179.536381\n",
      "iter 150 value 179.187457\n",
      "iter 160 value 178.470361\n",
      "iter 170 value 174.609396\n",
      "iter 180 value 173.374293\n",
      "iter 190 value 172.716228\n",
      "iter 200 value 171.785855\n",
      "iter 210 value 171.530596\n",
      "iter 220 value 171.251487\n",
      "iter 230 value 171.173191\n",
      "iter 240 value 171.159240\n",
      "iter 250 value 171.142945\n",
      "iter 260 value 171.132972\n",
      "iter 270 value 171.122294\n",
      "iter 280 value 171.120633\n",
      "final  value 171.117906 \n",
      "converged\n",
      "# weights:  49\n",
      "initial  value 548.599089 \n",
      "iter  10 value 275.141142\n",
      "iter  20 value 233.424053\n",
      "iter  30 value 228.457899\n",
      "iter  40 value 221.393977\n",
      "iter  50 value 215.316515\n",
      "iter  60 value 204.900134\n",
      "iter  70 value 202.094159\n",
      "iter  80 value 199.796740\n",
      "iter  90 value 198.400917\n",
      "iter 100 value 197.721214\n",
      "iter 110 value 197.681447\n",
      "iter 120 value 197.392222\n",
      "iter 130 value 197.154119\n",
      "iter 140 value 195.693919\n",
      "iter 150 value 194.623869\n",
      "iter 160 value 194.318275\n",
      "iter 170 value 194.136135\n",
      "iter 180 value 193.722577\n",
      "iter 190 value 193.317810\n",
      "iter 200 value 192.955691\n",
      "iter 210 value 192.928919\n",
      "iter 220 value 192.885473\n",
      "iter 230 value 192.782217\n",
      "iter 240 value 192.711411\n",
      "iter 250 value 192.600797\n",
      "iter 260 value 192.564578\n",
      "iter 270 value 192.539548\n",
      "iter 280 value 192.331332\n",
      "iter 290 value 192.215578\n",
      "iter 300 value 192.201960\n",
      "iter 310 value 192.200638\n",
      "iter 320 value 192.198099\n",
      "iter 330 value 192.192041\n",
      "iter 340 value 192.179367\n",
      "iter 350 value 192.161346\n",
      "iter 360 value 192.093292\n",
      "iter 370 value 191.419949\n",
      "iter 380 value 191.066590\n",
      "iter 390 value 190.738056\n",
      "iter 400 value 190.658095\n",
      "iter 410 value 190.639624\n",
      "iter 420 value 190.614603\n",
      "iter 430 value 190.591849\n",
      "iter 440 value 190.584834\n",
      "iter 450 value 190.573538\n",
      "iter 460 value 189.518909\n",
      "iter 470 value 189.291018\n",
      "iter 480 value 189.231861\n",
      "iter 490 value 189.056958\n",
      "iter 500 value 189.027243\n",
      "iter 510 value 189.020768\n",
      "iter 520 value 189.019862\n",
      "iter 530 value 189.017090\n",
      "iter 540 value 189.014795\n",
      "iter 550 value 189.004520\n",
      "iter 560 value 188.986697\n",
      "final  value 188.982542 \n",
      "converged\n",
      "# weights:  49\n"
     ]
    },
    {
     "name": "stdout",
     "output_type": "stream",
     "text": [
      "initial  value 560.083276 \n",
      "iter  10 value 287.035284\n",
      "iter  20 value 253.227618\n",
      "iter  30 value 219.063752\n",
      "iter  40 value 206.483398\n",
      "iter  50 value 182.891330\n",
      "iter  60 value 176.666400\n",
      "iter  70 value 172.422579\n",
      "iter  80 value 166.578935\n",
      "iter  90 value 163.565172\n",
      "iter 100 value 160.473083\n",
      "iter 110 value 159.210617\n",
      "iter 120 value 158.058730\n",
      "iter 130 value 155.925692\n",
      "iter 140 value 154.638358\n",
      "iter 150 value 153.680623\n",
      "iter 160 value 151.902703\n",
      "iter 170 value 150.084014\n",
      "iter 180 value 148.294618\n",
      "iter 190 value 147.193654\n",
      "iter 200 value 146.318285\n",
      "iter 210 value 146.244493\n",
      "iter 220 value 146.210600\n",
      "iter 230 value 146.190995\n",
      "iter 240 value 146.171104\n",
      "iter 250 value 146.127153\n",
      "iter 260 value 146.113574\n",
      "iter 270 value 146.108506\n",
      "iter 280 value 146.098065\n",
      "iter 290 value 146.093659\n",
      "iter 300 value 146.088600\n",
      "iter 310 value 146.066603\n",
      "iter 320 value 145.996380\n",
      "iter 330 value 145.946178\n",
      "iter 340 value 145.918864\n",
      "iter 350 value 145.907927\n",
      "iter 360 value 145.903396\n",
      "iter 370 value 145.899903\n",
      "iter 380 value 145.896526\n",
      "iter 390 value 145.892076\n",
      "iter 400 value 145.889118\n",
      "iter 410 value 145.864609\n",
      "iter 420 value 145.831879\n",
      "final  value 145.814470 \n",
      "converged\n"
     ]
    }
   ],
   "source": [
    "for(k in 1:10) {\n",
    "hout=(85*(k-1)+1):(85*k)\n",
    "loan.nn=nnet(factor(Status) ~ ., data=XX[-hout,], size=6, maxit=1000)\n",
    "pre=predict(loan.nn,XX[hout,],type=\"class\")\n",
    "apre.nn=apre.nn+sum(loan$Status[hout]==pre)\n",
    "}"
   ]
  },
  {
   "cell_type": "code",
   "execution_count": 152,
   "metadata": {},
   "outputs": [
    {
     "data": {
      "text/html": [
       "718"
      ],
      "text/latex": [
       "718"
      ],
      "text/markdown": [
       "718"
      ],
      "text/plain": [
       "[1] 718"
      ]
     },
     "metadata": {},
     "output_type": "display_data"
    }
   ],
   "source": [
    "apre.nn\n"
   ]
  },
  {
   "cell_type": "markdown",
   "metadata": {},
   "source": [
    "718 out of 850 total data set are correctly classified by ANN"
   ]
  },
  {
   "cell_type": "markdown",
   "metadata": {},
   "source": [
    "# 10 fold cross-validation using SVM"
   ]
  },
  {
   "cell_type": "code",
   "execution_count": 153,
   "metadata": {},
   "outputs": [],
   "source": [
    "apre.sv=0"
   ]
  },
  {
   "cell_type": "code",
   "execution_count": 154,
   "metadata": {},
   "outputs": [],
   "source": [
    "for(k in 1:10) {\n",
    "hout=(85*(k-1)+1):(85*k)\n",
    "loan.sv=svm(factor(Status) ~ ., data=loan[-hout,])\n",
    "pre=predict(loan.sv,loan[hout,])\n",
    "apre.sv=apre.sv+sum(loan$Status[hout]==pre)\n",
    "}"
   ]
  },
  {
   "cell_type": "code",
   "execution_count": 155,
   "metadata": {},
   "outputs": [
    {
     "data": {
      "text/html": [
       "727"
      ],
      "text/latex": [
       "727"
      ],
      "text/markdown": [
       "727"
      ],
      "text/plain": [
       "[1] 727"
      ]
     },
     "metadata": {},
     "output_type": "display_data"
    }
   ],
   "source": [
    "apre.sv\n"
   ]
  },
  {
   "cell_type": "markdown",
   "metadata": {},
   "source": [
    "727 out of 850 total data set are correctly classified by SVM."
   ]
  },
  {
   "cell_type": "markdown",
   "metadata": {},
   "source": [
    "# Leave one out cross-validation using RandomForest"
   ]
  },
  {
   "cell_type": "code",
   "execution_count": 156,
   "metadata": {},
   "outputs": [],
   "source": [
    "apre=0"
   ]
  },
  {
   "cell_type": "code",
   "execution_count": 157,
   "metadata": {},
   "outputs": [],
   "source": [
    "for(k in 1:850) {\n",
    "loan.rf=randomForest(factor(Status) ~ ., data=loan[-k,])\n",
    "pre=predict(loan.rf,loan[k,])\n",
    "if (loan$Status[k]==pre){\n",
    "apre=apre+1}\n",
    "}\n"
   ]
  },
  {
   "cell_type": "code",
   "execution_count": 158,
   "metadata": {},
   "outputs": [
    {
     "data": {
      "text/html": [
       "762"
      ],
      "text/latex": [
       "762"
      ],
      "text/markdown": [
       "762"
      ],
      "text/plain": [
       "[1] 762"
      ]
     },
     "metadata": {},
     "output_type": "display_data"
    }
   ],
   "source": [
    "apre\n",
    "\n"
   ]
  },
  {
   "cell_type": "markdown",
   "metadata": {},
   "source": [
    "762 out of 850 total data set are correctly classified based on Leave one out cross-validation."
   ]
  }
 ],
 "metadata": {
  "kernelspec": {
   "display_name": "R",
   "language": "R",
   "name": "ir"
  },
  "language_info": {
   "codemirror_mode": "r",
   "file_extension": ".r",
   "mimetype": "text/x-r-source",
   "name": "R",
   "pygments_lexer": "r",
   "version": "3.5.1"
  }
 },
 "nbformat": 4,
 "nbformat_minor": 2
}
