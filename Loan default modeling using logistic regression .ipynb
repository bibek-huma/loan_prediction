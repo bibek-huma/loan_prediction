{
 "cells": [
  {
   "cell_type": "markdown",
   "metadata": {},
   "source": [
    "# Predictive modeling using logistics regression"
   ]
  },
  {
   "cell_type": "markdown",
   "metadata": {},
   "source": [
    "Loads loan data set in data\n"
   ]
  },
  {
   "cell_type": "code",
   "execution_count": 825,
   "metadata": {},
   "outputs": [],
   "source": [
    "data=read.csv(\"c:/Users/bibek/Desktop/LoanData.csv\")"
   ]
  },
  {
   "cell_type": "code",
   "execution_count": 826,
   "metadata": {},
   "outputs": [
    {
     "data": {
      "text/html": [
       "<ol class=list-inline>\n",
       "\t<li>'Current'</li>\n",
       "\t<li>'Default'</li>\n",
       "\t<li>'Late'</li>\n",
       "</ol>\n"
      ],
      "text/latex": [
       "\\begin{enumerate*}\n",
       "\\item 'Current'\n",
       "\\item 'Default'\n",
       "\\item 'Late'\n",
       "\\end{enumerate*}\n"
      ],
      "text/markdown": [
       "1. 'Current'\n",
       "2. 'Default'\n",
       "3. 'Late'\n",
       "\n",
       "\n"
      ],
      "text/plain": [
       "[1] \"Current\" \"Default\" \"Late\"   "
      ]
     },
     "metadata": {},
     "output_type": "display_data"
    }
   ],
   "source": [
    "levels(data$Status)"
   ]
  },
  {
   "cell_type": "markdown",
   "metadata": {},
   "source": [
    "Loan status set as a binary outcome. 0 for current loans, 1 for late or default loans"
   ]
  },
  {
   "cell_type": "code",
   "execution_count": 827,
   "metadata": {},
   "outputs": [],
   "source": [
    "levels(data$Status)=c(0,1,1)"
   ]
  },
  {
   "cell_type": "markdown",
   "metadata": {},
   "source": [
    "Debt-to-income ratio segmented into three levels ‘low’ for ratio below 10%, ‘medium’ for ratio between 10% and 30%, ‘high’ for ratio above 30%"
   ]
  },
  {
   "cell_type": "code",
   "execution_count": 828,
   "metadata": {},
   "outputs": [],
   "source": [
    "data$Ratio=cut(data$Debt.To.Income.Ratio, breaks=c(-1,.1,.3,99999), labels=c(\"low\",\"medium\", \"high\"))"
   ]
  },
  {
   "cell_type": "markdown",
   "metadata": {},
   "source": [
    "Calls logistic regression to dataset using Credit.Grade, Amount, Age, Borrower.Rate and Debt to Income Ratio as explanatory variables."
   ]
  },
  {
   "cell_type": "code",
   "execution_count": 829,
   "metadata": {},
   "outputs": [],
   "source": [
    "logdata=glm(Status~Credit.Grade+Amount+Age+Borrower.Rate+Ratio,family=binomial,data=data)"
   ]
  },
  {
   "cell_type": "markdown",
   "metadata": {},
   "source": [
    "Summary output of logistics regression"
   ]
  },
  {
   "cell_type": "code",
   "execution_count": 830,
   "metadata": {},
   "outputs": [
    {
     "data": {
      "text/plain": [
       "\n",
       "Call:\n",
       "glm(formula = Status ~ Credit.Grade + Amount + Age + Borrower.Rate + \n",
       "    Ratio, family = binomial, data = data)\n",
       "\n",
       "Deviance Residuals: \n",
       "    Min       1Q   Median       3Q      Max  \n",
       "-2.1415  -0.3947  -0.2385  -0.1387   3.2415  \n",
       "\n",
       "Coefficients:\n",
       "                 Estimate Std. Error z value Pr(>|z|)    \n",
       "(Intercept)    -7.655e+00  4.313e-01 -17.749  < 2e-16 ***\n",
       "Credit.GradeAA -6.137e-01  5.527e-01  -1.110 0.266868    \n",
       "Credit.GradeB   2.937e-01  3.855e-01   0.762 0.446145    \n",
       "Credit.GradeC  -3.589e-02  3.811e-01  -0.094 0.924978    \n",
       "Credit.GradeD   3.293e-02  3.839e-01   0.086 0.931645    \n",
       "Credit.GradeE   6.333e-01  3.913e-01   1.618 0.105565    \n",
       "Credit.GradeHR  1.163e+00  4.015e-01   2.896 0.003781 ** \n",
       "Credit.GradeNC  1.687e+00  5.083e-01   3.318 0.000906 ***\n",
       "Amount          4.538e-05  1.593e-05   2.849 0.004390 ** \n",
       "Age             3.675e-01  2.221e-02  16.545  < 2e-16 ***\n",
       "Borrower.Rate   1.105e+01  1.274e+00   8.671  < 2e-16 ***\n",
       "Ratiomedium    -1.062e-02  1.272e-01  -0.083 0.933469    \n",
       "Ratiohigh      -4.951e-02  1.978e-01  -0.250 0.802376    \n",
       "---\n",
       "Signif. codes:  0 '***' 0.001 '**' 0.01 '*' 0.05 '.' 0.1 ' ' 1\n",
       "\n",
       "(Dispersion parameter for binomial family taken to be 1)\n",
       "\n",
       "    Null deviance: 3010.3  on 5610  degrees of freedom\n",
       "Residual deviance: 2373.3  on 5598  degrees of freedom\n",
       "AIC: 2399.3\n",
       "\n",
       "Number of Fisher Scoring iterations: 7\n"
      ]
     },
     "metadata": {},
     "output_type": "display_data"
    }
   ],
   "source": [
    "summary(logdata)"
   ]
  },
  {
   "cell_type": "markdown",
   "metadata": {},
   "source": [
    "# Evaluation of in sample fitting of logistic regression model"
   ]
  },
  {
   "cell_type": "code",
   "execution_count": 831,
   "metadata": {},
   "outputs": [],
   "source": [
    "forecast=predict(logdata,newdata=data,type=\"response\") "
   ]
  },
  {
   "cell_type": "markdown",
   "metadata": {},
   "source": [
    "Saves prediction on fcst in a confusion matrix based on status of loan using 0.5 as cutoff probability"
   ]
  },
  {
   "cell_type": "code",
   "execution_count": 832,
   "metadata": {},
   "outputs": [],
   "source": [
    "fcst=table(data$Status,floor(forecast+.5))"
   ]
  },
  {
   "cell_type": "markdown",
   "metadata": {},
   "source": [
    "Displays confusion matrix for loan status prediction"
   ]
  },
  {
   "cell_type": "code",
   "execution_count": 833,
   "metadata": {},
   "outputs": [
    {
     "data": {
      "text/plain": [
       "   \n",
       "       0    1\n",
       "  0 5154   32\n",
       "  1  385   40"
      ]
     },
     "metadata": {},
     "output_type": "display_data"
    }
   ],
   "source": [
    "fcst"
   ]
  },
  {
   "cell_type": "markdown",
   "metadata": {},
   "source": [
    "Displays the confusion matrix with new updated cutoff probability of 92.425%"
   ]
  },
  {
   "cell_type": "code",
   "execution_count": 834,
   "metadata": {},
   "outputs": [],
   "source": [
    "fcst=table(data$Status,floor(forecast+.9242559))"
   ]
  },
  {
   "cell_type": "code",
   "execution_count": 835,
   "metadata": {},
   "outputs": [
    {
     "data": {
      "text/plain": [
       "   \n",
       "       0    1\n",
       "  0 3804 1382\n",
       "  1   88  337"
      ]
     },
     "metadata": {},
     "output_type": "display_data"
    }
   ],
   "source": [
    "fcst\n"
   ]
  },
  {
   "cell_type": "markdown",
   "metadata": {},
   "source": [
    "# Misclassification rate is higher when cutoff probabily is  chosen 92.425%"
   ]
  },
  {
   "cell_type": "markdown",
   "metadata": {},
   "source": [
    "Selection of 4611 random loans as a training set "
   ]
  },
  {
   "cell_type": "code",
   "execution_count": 836,
   "metadata": {},
   "outputs": [],
   "source": [
    "train=sample(1:5611,4611)"
   ]
  },
  {
   "cell_type": "markdown",
   "metadata": {},
   "source": [
    "Calls linear regression for train set and stores it in logdata2 "
   ]
  },
  {
   "cell_type": "code",
   "execution_count": 837,
   "metadata": {},
   "outputs": [],
   "source": [
    "logdata2=glm(Status~Credit.Grade+Amount+Age+Borrower.Rate+Ratio,family=binomial,data=data[train,])"
   ]
  },
  {
   "cell_type": "markdown",
   "metadata": {},
   "source": [
    "Predicts the model for train set and saves it in forecast"
   ]
  },
  {
   "cell_type": "code",
   "execution_count": 838,
   "metadata": {},
   "outputs": [],
   "source": [
    "forecast=predict(logdata2,newdata=data[-train,],type=\"response\")"
   ]
  },
  {
   "cell_type": "markdown",
   "metadata": {},
   "source": [
    "Displays the prediction of trainset"
   ]
  },
  {
   "cell_type": "code",
   "execution_count": 839,
   "metadata": {},
   "outputs": [
    {
     "data": {
      "text/plain": [
       "\n",
       "   0    1 \n",
       "4263  348 "
      ]
     },
     "metadata": {},
     "output_type": "display_data"
    }
   ],
   "source": [
    "table(data$Status[train])"
   ]
  },
  {
   "cell_type": "markdown",
   "metadata": {},
   "source": [
    "Stores the cutoff value in cut"
   ]
  },
  {
   "cell_type": "code",
   "execution_count": 840,
   "metadata": {},
   "outputs": [],
   "source": [
    "cut=table(data$Status[train])[1]/(table(data$Status[train])[1]+table(data$Status[train])[2])"
   ]
  },
  {
   "cell_type": "code",
   "execution_count": 841,
   "metadata": {},
   "outputs": [
    {
     "data": {
      "text/html": [
       "<strong>0:</strong> 0.924528301886792"
      ],
      "text/latex": [
       "\\textbf{0:} 0.924528301886792"
      ],
      "text/markdown": [
       "**0:** 0.924528301886792"
      ],
      "text/plain": [
       "        0 \n",
       "0.9245283 "
      ]
     },
     "metadata": {},
     "output_type": "display_data"
    }
   ],
   "source": [
    "cut"
   ]
  },
  {
   "cell_type": "markdown",
   "metadata": {},
   "source": [
    "Generates confusion matrix for the test set based on loan status and cutoff probability"
   ]
  },
  {
   "cell_type": "code",
   "execution_count": 842,
   "metadata": {},
   "outputs": [],
   "source": [
    "fcst=table(data$Status[-train],floor(forecast+cut))"
   ]
  },
  {
   "cell_type": "code",
   "execution_count": 843,
   "metadata": {},
   "outputs": [
    {
     "data": {
      "text/plain": [
       "   \n",
       "      0   1\n",
       "  0 662 261\n",
       "  1  13  64"
      ]
     },
     "metadata": {},
     "output_type": "display_data"
    }
   ],
   "source": [
    "fcst"
   ]
  },
  {
   "cell_type": "markdown",
   "metadata": {},
   "source": [
    "Displays the misclassification rate."
   ]
  },
  {
   "cell_type": "code",
   "execution_count": 844,
   "metadata": {},
   "outputs": [
    {
     "data": {
      "text/html": [
       "0.274"
      ],
      "text/latex": [
       "0.274"
      ],
      "text/markdown": [
       "0.274"
      ],
      "text/plain": [
       "[1] 0.274"
      ]
     },
     "metadata": {},
     "output_type": "display_data"
    }
   ],
   "source": [
    "(fcst[1,2]+fcst[2,1])/sum(fcst) "
   ]
  },
  {
   "cell_type": "markdown",
   "metadata": {},
   "source": [
    "Stores the dataframe in new for trainset"
   ]
  },
  {
   "cell_type": "code",
   "execution_count": 845,
   "metadata": {},
   "outputs": [],
   "source": [
    "new = data.frame(forecast,data$Status[-train]) "
   ]
  },
  {
   "cell_type": "markdown",
   "metadata": {},
   "source": [
    "Orders the data stored in new in decreasing order and stores in new1"
   ]
  },
  {
   "cell_type": "code",
   "execution_count": 846,
   "metadata": {},
   "outputs": [],
   "source": [
    "new1=new[order(forecast,decreasing=T),] \n"
   ]
  },
  {
   "cell_type": "markdown",
   "metadata": {},
   "source": [
    "Saves mean value of test set into main"
   ]
  },
  {
   "cell_type": "code",
   "execution_count": 847,
   "metadata": {},
   "outputs": [],
   "source": [
    "main=mean(as.numeric(data$Status[-train]))-1 "
   ]
  },
  {
   "cell_type": "code",
   "execution_count": 848,
   "metadata": {},
   "outputs": [
    {
     "data": {
      "text/html": [
       "0.077"
      ],
      "text/latex": [
       "0.077"
      ],
      "text/markdown": [
       "0.077"
      ],
      "text/plain": [
       "[1] 0.077"
      ]
     },
     "metadata": {},
     "output_type": "display_data"
    }
   ],
   "source": [
    "main"
   ]
  },
  {
   "cell_type": "markdown",
   "metadata": {},
   "source": [
    "Calculation of lift curve using For loop"
   ]
  },
  {
   "cell_type": "code",
   "execution_count": 854,
   "metadata": {},
   "outputs": [
    {
     "data": {
      "image/png": "[encoded data removed]",
      "text/plain": [
       "Plot with title \"Lift: Cum prediction successes\""
      ]
     },
     "metadata": {},
     "output_type": "display_data"
    }
   ],
   "source": [
    "x=dim(1000)\n",
    "y=dim(1000)\n",
    "r=dim(1000)\n",
    "x[1]=1\n",
    "y[1]=as.numeric(new1[1,2])-1\n",
    "r[1]=main\n",
    "for (i in 2:1000){\n",
    "x[i]=i\n",
    "r[i]=i*main\n",
    "y[i]=y[i-1]+as.numeric(new1[i,2])-1}\n",
    "plot(x,y,xlab=\"number of loans\",ylab=\"number of bad loans\",main=\"Lift: Cum prediction successes\")\n",
    "points(x,r,col=\"green\")"
   ]
  },
  {
   "cell_type": "markdown",
   "metadata": {},
   "source": [
    "Calculaion of out-of-sample prediction accuracy rate for 20 random test samples.Sample size is 1000 loans. "
   ]
  },
  {
   "cell_type": "code",
   "execution_count": 850,
   "metadata": {},
   "outputs": [],
   "source": [
    "dot=dim(20)"
   ]
  },
  {
   "cell_type": "code",
   "execution_count": 851,
   "metadata": {},
   "outputs": [],
   "source": [
    "for (j in 1:20){ \n",
    "    train=sample(1:5611,4611)\n",
    "    logdata20=glm(Status~Credit.Grade+Amount+Age+Borrower.Rate+Ratio,family=binomial,data=data[train,])\n",
    "    forecast=predict(logdata20,newdata=data[-train,],type=\"response\")\n",
    "    cut=table(data$Status[train])[1]/(table(data$Status[train])[1]+table(data$Status[train])[2])\n",
    "    fcst=table(data$Status[-train],floor(forecast+cut))\n",
    "    dot[j]=(fcst[1,1]+fcst[2,2])/sum(fcst)\n",
    "    }\n"
   ]
  },
  {
   "cell_type": "markdown",
   "metadata": {},
   "source": [
    "Displays the mean accuracy rate of twenty different samples"
   ]
  },
  {
   "cell_type": "code",
   "execution_count": 852,
   "metadata": {},
   "outputs": [
    {
     "data": {
      "text/html": [
       "0.73545"
      ],
      "text/latex": [
       "0.73545"
      ],
      "text/markdown": [
       "0.73545"
      ],
      "text/plain": [
       "[1] 0.73545"
      ]
     },
     "metadata": {},
     "output_type": "display_data"
    }
   ],
   "source": [
    "mean(dot)"
   ]
  },
  {
   "cell_type": "markdown",
   "metadata": {},
   "source": [
    "Displays the individual accuracy rate of 20 different samples"
   ]
  },
  {
   "cell_type": "code",
   "execution_count": 853,
   "metadata": {},
   "outputs": [
    {
     "data": {
      "text/html": [
       "<ol class=list-inline>\n",
       "\t<li>0.741</li>\n",
       "\t<li>0.737</li>\n",
       "\t<li>0.754</li>\n",
       "\t<li>0.743</li>\n",
       "\t<li>0.72</li>\n",
       "\t<li>0.735</li>\n",
       "\t<li>0.719</li>\n",
       "\t<li>0.741</li>\n",
       "\t<li>0.739</li>\n",
       "\t<li>0.738</li>\n",
       "\t<li>0.728</li>\n",
       "\t<li>0.731</li>\n",
       "\t<li>0.776</li>\n",
       "\t<li>0.715</li>\n",
       "\t<li>0.736</li>\n",
       "\t<li>0.741</li>\n",
       "\t<li>0.717</li>\n",
       "\t<li>0.717</li>\n",
       "\t<li>0.727</li>\n",
       "\t<li>0.754</li>\n",
       "</ol>\n"
      ],
      "text/latex": [
       "\\begin{enumerate*}\n",
       "\\item 0.741\n",
       "\\item 0.737\n",
       "\\item 0.754\n",
       "\\item 0.743\n",
       "\\item 0.72\n",
       "\\item 0.735\n",
       "\\item 0.719\n",
       "\\item 0.741\n",
       "\\item 0.739\n",
       "\\item 0.738\n",
       "\\item 0.728\n",
       "\\item 0.731\n",
       "\\item 0.776\n",
       "\\item 0.715\n",
       "\\item 0.736\n",
       "\\item 0.741\n",
       "\\item 0.717\n",
       "\\item 0.717\n",
       "\\item 0.727\n",
       "\\item 0.754\n",
       "\\end{enumerate*}\n"
      ],
      "text/markdown": [
       "1. 0.741\n",
       "2. 0.737\n",
       "3. 0.754\n",
       "4. 0.743\n",
       "5. 0.72\n",
       "6. 0.735\n",
       "7. 0.719\n",
       "8. 0.741\n",
       "9. 0.739\n",
       "10. 0.738\n",
       "11. 0.728\n",
       "12. 0.731\n",
       "13. 0.776\n",
       "14. 0.715\n",
       "15. 0.736\n",
       "16. 0.741\n",
       "17. 0.717\n",
       "18. 0.717\n",
       "19. 0.727\n",
       "20. 0.754\n",
       "\n",
       "\n"
      ],
      "text/plain": [
       " [1] 0.741 0.737 0.754 0.743 0.720 0.735 0.719 0.741 0.739 0.738 0.728 0.731\n",
       "[13] 0.776 0.715 0.736 0.741 0.717 0.717 0.727 0.754"
      ]
     },
     "metadata": {},
     "output_type": "display_data"
    }
   ],
   "source": [
    "dot"
   ]
  }
 ],
 "metadata": {
  "kernelspec": {
   "display_name": "R",
   "language": "R",
   "name": "ir"
  },
  "language_info": {
   "codemirror_mode": "r",
   "file_extension": ".r",
   "mimetype": "text/x-r-source",
   "name": "R",
   "pygments_lexer": "r",
   "version": "3.5.1"
  }
 },
 "nbformat": 4,
 "nbformat_minor": 2
}
